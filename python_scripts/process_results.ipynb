{
 "cells": [
  {
   "cell_type": "markdown",
   "metadata": {},
   "source": [
    "The 'consolidated_before' and 'consolidated_after' CSV files have to be generated from the python script 'consolidate_imperative_scores.py'."
   ]
  },
  {
   "cell_type": "code",
   "execution_count": 59,
   "metadata": {},
   "outputs": [],
   "source": [
    "import pandas as pd\n",
    "from scipy.stats import wilcoxon, shapiro, kruskal, alexandergovern\n",
    "\n",
    "df_before = pd.read_csv('consolidated_before.csv')\n",
    "df_after = pd.read_csv('consolidated_after.csv')"
   ]
  },
  {
   "cell_type": "code",
   "execution_count": 60,
   "metadata": {},
   "outputs": [],
   "source": [
    "df_before = df_before.set_index('Path', verify_integrity=True)\n",
    "df_after = df_after.set_index('Path', verify_integrity=True)"
   ]
  },
  {
   "cell_type": "code",
   "execution_count": 61,
   "metadata": {},
   "outputs": [
    {
     "name": "stdout",
     "output_type": "stream",
     "text": [
      "1531\n",
      "'../in/flagged_repos/Argu/before\\9adb3beba259883dd5dfb11da73a03d118fefe1c\\ArgumentParser.fs' '../in/flagged_repos/Argu/after\\9adb3beba259883dd5dfb11da73a03d118fefe1c\\ArgumentParser.fs'\n",
      "False\n",
      "True\n",
      "1531\n"
     ]
    }
   ],
   "source": [
    "keys_b = df_before.index.to_list()\n",
    "keys_a = df_after.index.to_list()\n",
    "print(df_before.index.size)\n",
    "print(keys_b[0], keys_a[0])\n",
    "print(keys_a[0] in df_before.index.to_list())\n",
    "\n",
    "keys_a = list(map(lambda s : s.replace('after', 'before'), keys_a))\n",
    "print(keys_a[0] in df_before.index.to_list())\n",
    "\n",
    "df_before = df_before.loc[keys_a]\n",
    "print(df_before.index.size)"
   ]
  },
  {
   "cell_type": "code",
   "execution_count": 62,
   "metadata": {},
   "outputs": [],
   "source": [
    "def generate_ratio(df, key_num, key_div):\n",
    "    return df[key_num].div(df[key_div]).apply(lambda x : x  * 1000)\n",
    "\n",
    "def insert_columns(df, cols):\n",
    "    for c in cols:\n",
    "        # insert column name, column at the front\n",
    "        df.insert(0, c[0], c[1])"
   ]
  },
  {
   "cell_type": "code",
   "execution_count": 63,
   "metadata": {},
   "outputs": [],
   "source": [
    "mutable_ratio_before = df_before[' MutableCount'].div(df_before[' TokenCount']).apply(lambda x : x  * 1000)\n",
    "df_before.insert(len(df_before.columns), 'MutableRatio', mutable_ratio_before)\n",
    "sum_ratio_before = (df_before[' MutableCount'] + df_before[' ArrayCount'] + df_before[' LoopCount'] + df_before[' ExceptionCount'] + df_before[' IOCount']).div(df_before[' TokenCount']).apply(lambda x : x  * 1000)\n",
    "df_before.insert(len(df_before.columns), 'ImpRatio', sum_ratio_before)\n",
    "\n",
    "mutable_ratio_after = df_after[' MutableCount'].div(df_after[' TokenCount']).apply(lambda x : x  * 1000)\n",
    "df_after.insert(len(df_after.columns), 'MutableRatio', mutable_ratio_after)\n",
    "sum_ratio_after = (df_after[' MutableCount'] + df_after[' ArrayCount'] + df_after[' LoopCount'] + df_after[' ExceptionCount'] + df_after[' IOCount']).div(df_after[' TokenCount']).apply(lambda x : x  * 1000)\n",
    "df_after.insert(len(df_after.columns), 'ImpRatio', sum_ratio_after)\n",
    "\n",
    "cols_b = [('LoopRatio', generate_ratio(df_before, ' LoopCount', ' TokenCount')), ('ArrayRatio', generate_ratio(df_before, ' ArrayCount', ' TokenCount'))]\n",
    "insert_columns(df_before, cols_b)\n",
    "\n",
    "cols_a = [('LoopRatio', generate_ratio(df_after, ' LoopCount', ' TokenCount')), ('ArrayRatio', generate_ratio(df_after, ' ArrayCount', ' TokenCount'))]\n",
    "insert_columns(df_after, cols_a)\n"
   ]
  },
  {
   "cell_type": "code",
   "execution_count": 64,
   "metadata": {},
   "outputs": [
    {
     "name": "stdout",
     "output_type": "stream",
     "text": [
      "Index(['ArrayRatio', 'LoopRatio', ' MutableCount', ' DoCount', ' LoopCount',\n",
      "       ' ArrayCount', ' ExceptionCount', ' IOCount', ' TokenCount',\n",
      "       'MutableRatio', 'ImpRatio'],\n",
      "      dtype='object')\n",
      "Index(['ArrayRatio', 'LoopRatio', ' MutableCount', ' DoCount', ' LoopCount',\n",
      "       ' ArrayCount', ' ExceptionCount', ' IOCount', ' TokenCount',\n",
      "       'MutableRatio', 'ImpRatio'],\n",
      "      dtype='object')\n",
      "mutableratio skew 3.962898393723078\n",
      "consolidated skew 2.623091654231035\n"
     ]
    },
    {
     "data": {
      "text/plain": [
       "count    1531.000000\n",
       "mean        3.997879\n",
       "std         5.344253\n",
       "min         0.000000\n",
       "25%         0.000000\n",
       "50%         2.010263\n",
       "75%         5.850868\n",
       "max        61.889251\n",
       "Name: ImpRatio, dtype: float64"
      ]
     },
     "execution_count": 64,
     "metadata": {},
     "output_type": "execute_result"
    }
   ],
   "source": [
    "print(df_before.keys())\n",
    "print(df_after.keys())\n",
    "print('mutableratio skew', df_before['MutableRatio'].skew())\n",
    "print('consolidated skew', df_before['ImpRatio'].skew())\n",
    "\n",
    "df_before[\"ImpRatio\"].describe()"
   ]
  },
  {
   "cell_type": "code",
   "execution_count": 65,
   "metadata": {},
   "outputs": [
    {
     "name": "stdout",
     "output_type": "stream",
     "text": [
      "Wilcoxon Signed Rank Null Hypothesis: the distribution of X - Y is symmetric about zero\n",
      "\n",
      "========================Mutable keyword statistics========================\n",
      "normality before: ShapiroResult(statistic=0.56400465965271, pvalue=0.0)\n",
      "normality after: ShapiroResult(statistic=0.5675939321517944, pvalue=0.0)\n",
      "wilcoxon signed rank: WilcoxonResult(statistic=76811.5, pvalue=1.0028415454859123e-05)\n",
      "wilcoxon signed rank: WilcoxonResult(statistic=116319.5, pvalue=5.014207727429562e-06)\n",
      "\n",
      "========================Loop keyword statistics========================\n",
      "normality before: ShapiroResult(statistic=0.4987138509750366, pvalue=0.0)\n",
      "normality after: ShapiroResult(statistic=0.5021241903305054, pvalue=0.0)\n",
      "wilcoxon signed rank: WilcoxonResult(statistic=41976.5, pvalue=5.71976024869843e-08)\n",
      "wilcoxon signed rank: WilcoxonResult(statistic=75393.5, pvalue=2.859880124349215e-08)\n",
      "\n",
      "========================Array keyword statistics========================\n",
      "normality before: ShapiroResult(statistic=0.3692273497581482, pvalue=0.0)\n",
      "normality after: ShapiroResult(statistic=0.35329699516296387, pvalue=0.0)\n",
      "wilcoxon signed rank: WilcoxonResult(statistic=23066.5, pvalue=2.499929226359892e-12)\n",
      "wilcoxon signed rank: WilcoxonResult(statistic=54748.5, pvalue=1.249964613179946e-12)\n",
      "wilcoxon signed rank: WilcoxonResult(statistic=54748.5, pvalue=0.99999999999875)\n",
      "\n",
      "========================Consolidated statistics========================\n",
      "normality before: ShapiroResult(statistic=0.7382591962814331, pvalue=7.567011707354012e-44)\n",
      "normality after: ShapiroResult(statistic=0.7411726713180542, pvalue=1.1070257868166055e-43)\n",
      "wilcoxon signed rank: WilcoxonResult(statistic=178690.5, pvalue=0.002062648266585175)\n",
      "kruskal: KruskalResult(statistic=0.04461780742521114, pvalue=0.8327083664424686)\n",
      "alexandergovern: AlexanderGovernResult(statistic=0.018253700465210108, pvalue=0.8925278638001434)\n",
      "wilcoxon signed rank (before > after): WilcoxonResult(statistic=226759.5, pvalue=0.0010313241332925876)\n"
     ]
    }
   ],
   "source": [
    "# Tests for normality\n",
    "print(\"Wilcoxon Signed Rank Null Hypothesis: the distribution of X - Y is symmetric about zero\")\n",
    "\n",
    "print('\\n========================Mutable keyword statistics========================')\n",
    "print('normality before:', shapiro(df_before['MutableRatio']))\n",
    "print('normality after:', shapiro(df_after['MutableRatio']))\n",
    "print('wilcoxon signed rank:', wilcoxon(df_before['MutableRatio'], df_after['MutableRatio']))\n",
    "print('wilcoxon signed rank:', wilcoxon(df_before['MutableRatio'], df_after['MutableRatio'], alternative=\"greater\"))\n",
    "\n",
    "print('\\n========================Loop keyword statistics========================')\n",
    "print('normality before:', shapiro(df_before['LoopRatio']))\n",
    "print('normality after:', shapiro(df_after['LoopRatio']))\n",
    "print('wilcoxon signed rank:', wilcoxon(df_before['LoopRatio'], df_after['LoopRatio']))\n",
    "print('wilcoxon signed rank:', wilcoxon(df_before['LoopRatio'], df_after['LoopRatio'], alternative=\"greater\"))\n",
    "\n",
    "print('\\n========================Array keyword statistics========================')\n",
    "print('normality before:', shapiro(df_before['ArrayRatio']))\n",
    "print('normality after:', shapiro(df_after['ArrayRatio']))\n",
    "print('wilcoxon signed rank:', wilcoxon(df_before['ArrayRatio'], df_after['ArrayRatio']))\n",
    "print('wilcoxon signed rank:', wilcoxon(df_before['ArrayRatio'], df_after['ArrayRatio'], alternative=\"greater\"))\n",
    "print('wilcoxon signed rank:', wilcoxon(df_before['ArrayRatio'], df_after['ArrayRatio'], alternative=\"less\"))\n",
    "\n",
    "print('\\n========================Consolidated statistics========================')\n",
    "print('normality before:', shapiro(df_before['ImpRatio']))\n",
    "print('normality after:', shapiro(df_after['ImpRatio']))\n",
    "print('wilcoxon signed rank:', wilcoxon(df_before['ImpRatio'], df_after['ImpRatio'], nan_policy=\"raise\"))\n",
    "print('kruskal:', kruskal(df_before['ImpRatio'], df_after['ImpRatio']))\n",
    "print('alexandergovern:', alexandergovern(df_before['ImpRatio'], df_after['ImpRatio']))\n",
    "print('wilcoxon signed rank (before > after):', wilcoxon(df_before['ImpRatio'], df_after['ImpRatio'], alternative=\"greater\"))"
   ]
  },
  {
   "cell_type": "code",
   "execution_count": 66,
   "metadata": {},
   "outputs": [
    {
     "data": {
      "text/plain": [
       "<AxesSubplot: >"
      ]
     },
     "execution_count": 66,
     "metadata": {},
     "output_type": "execute_result"
    },
    {
     "data": {
      "image/png": "[encoded data removed]",
      "text/plain": [
       "<Figure size 432x288 with 1 Axes>"
      ]
     },
     "metadata": {
      "needs_background": "light"
     },
     "output_type": "display_data"
    }
   ],
   "source": [
    "df_after['ImpRatio'].plot.box()"
   ]
  },
  {
   "cell_type": "code",
   "execution_count": 70,
   "metadata": {},
   "outputs": [
    {
     "name": "stdout",
     "output_type": "stream",
     "text": [
      "1531\n"
     ]
    },
    {
     "data": {
      "text/plain": [
       "<AxesSubplot: >"
      ]
     },
     "execution_count": 70,
     "metadata": {},
     "output_type": "execute_result"
    },
    {
     "data": {
      "image/png": "[encoded data removed]",
      "text/plain": [
       "<Figure size 432x288 with 1 Axes>"
      ]
     },
     "metadata": {
      "needs_background": "light"
     },
     "output_type": "display_data"
    }
   ],
   "source": [
    "df_before.reset_index(inplace=True)\n",
    "df_after.reset_index(inplace=True)\n",
    "impratio_delta = df_after['ImpRatio'].subtract(df_before['ImpRatio'])\n",
    "impratio_reverse_delta = df_before['ImpRatio'].subtract(df_after['ImpRatio'])\n",
    "print(impratio_delta.count())\n",
    "impratio_delta.hist(alpha=0.7)"
   ]
  },
  {
   "cell_type": "code",
   "execution_count": 68,
   "metadata": {},
   "outputs": [
    {
     "data": {
      "text/plain": [
       "count    114.000000\n",
       "mean       0.022271\n",
       "std        0.187405\n",
       "min        0.000000\n",
       "25%        0.000000\n",
       "50%        0.000000\n",
       "75%        0.002963\n",
       "max        2.000000\n",
       "Name: imp_ratio, dtype: float64"
      ]
     },
     "execution_count": 68,
     "metadata": {},
     "output_type": "execute_result"
    }
   ],
   "source": [
    "projs = pd.read_csv('proj_deltas.csv')\n",
    "projs['imp_ratio'].apply(lambda x : x if x > 0 else -x).describe()"
   ]
  },
  {
   "cell_type": "code",
   "execution_count": 69,
   "metadata": {},
   "outputs": [
    {
     "name": "stdout",
     "output_type": "stream",
     "text": [
      "1531 547\n"
     ]
    }
   ],
   "source": [
    "total = result = 0\n",
    "for e in impratio_delta:\n",
    "    total += 1\n",
    "    if e < 0:\n",
    "        result += 1\n",
    "print(total, result)\n",
    "#impratio_delta.hist()"
   ]
  }
 ],
 "metadata": {
  "kernelspec": {
   "display_name": "Python 3.10.5 64-bit",
   "language": "python",
   "name": "python3"
  },
  "language_info": {
   "codemirror_mode": {
    "name": "ipython",
    "version": 3
   },
   "file_extension": ".py",
   "mimetype": "text/x-python",
   "name": "python",
   "nbconvert_exporter": "python",
   "pygments_lexer": "ipython3",
   "version": "3.10.5"
  },
  "orig_nbformat": 4,
  "vscode": {
   "interpreter": {
    "hash": "52634da84371cba311ea128a5ea7cdc41ff074b781779e754b270ff9f8153cee"
   }
  }
 },
 "nbformat": 4,
 "nbformat_minor": 2
}
